{
 "cells": [
  {
   "cell_type": "code",
   "execution_count": 1,
   "id": "698bf8e4-a503-4c18-998b-75b7b7fbf33c",
   "metadata": {
    "vscode": {
     "languageId": "r"
    }
   },
   "outputs": [
    {
     "name": "stderr",
     "output_type": "stream",
     "text": [
      "Installing package into ‘/sfs/gpfs/tardis/home/tsl2b/R/goolf/4.4’\n",
      "(as ‘lib’ is unspecified)\n",
      "\n"
     ]
    }
   ],
   "source": [
    "install.packages(\"lme4\")"
   ]
  },
  {
   "cell_type": "code",
   "execution_count": 2,
   "id": "dac132f9",
   "metadata": {
    "vscode": {
     "languageId": "r"
    }
   },
   "outputs": [
    {
     "name": "stderr",
     "output_type": "stream",
     "text": [
      "Installing package into ‘/sfs/gpfs/tardis/home/tsl2b/R/goolf/4.4’\n",
      "(as ‘lib’ is unspecified)\n",
      "\n"
     ]
    }
   ],
   "source": [
    "install.packages(\"emmeans\")"
   ]
  },
  {
   "cell_type": "code",
   "execution_count": 3,
   "id": "93cef36f",
   "metadata": {
    "vscode": {
     "languageId": "r"
    }
   },
   "outputs": [
    {
     "name": "stderr",
     "output_type": "stream",
     "text": [
      "Installing package into ‘/sfs/gpfs/tardis/home/tsl2b/R/goolf/4.4’\n",
      "(as ‘lib’ is unspecified)\n",
      "\n"
     ]
    }
   ],
   "source": [
    "install.packages(\"pbkrtest\")"
   ]
  },
  {
   "cell_type": "code",
   "execution_count": 4,
   "id": "3c63f093",
   "metadata": {
    "vscode": {
     "languageId": "r"
    }
   },
   "outputs": [
    {
     "name": "stderr",
     "output_type": "stream",
     "text": [
      "Installing package into ‘/sfs/gpfs/tardis/home/tsl2b/R/goolf/4.4’\n",
      "(as ‘lib’ is unspecified)\n",
      "\n"
     ]
    }
   ],
   "source": [
    "install.packages(\"lmerTest\")"
   ]
  },
  {
   "cell_type": "code",
   "execution_count": 5,
   "id": "687614cc",
   "metadata": {
    "vscode": {
     "languageId": "r"
    }
   },
   "outputs": [
    {
     "name": "stderr",
     "output_type": "stream",
     "text": [
      "Loading required package: Matrix\n",
      "\n",
      "Welcome to emmeans.\n",
      "Caution: You lose important information if you filter this package's results.\n",
      "See '? untidy'\n",
      "\n",
      "\n",
      "Attaching package: ‘lmerTest’\n",
      "\n",
      "\n",
      "The following object is masked from ‘package:lme4’:\n",
      "\n",
      "    lmer\n",
      "\n",
      "\n",
      "The following object is masked from ‘package:stats’:\n",
      "\n",
      "    step\n",
      "\n",
      "\n"
     ]
    }
   ],
   "source": [
    "library(\"lme4\")\n",
    "library(\"emmeans\")\n",
    "library(\"lmerTest\")"
   ]
  },
  {
   "cell_type": "code",
   "execution_count": 6,
   "id": "756467a9-88d4-4261-8231-8358b71bc957",
   "metadata": {
    "vscode": {
     "languageId": "r"
    }
   },
   "outputs": [
    {
     "data": {
      "text/plain": [
       "[1] ‘1.1.37’"
      ]
     },
     "metadata": {},
     "output_type": "display_data"
    }
   ],
   "source": [
    "packageVersion(\"lme4\")\n"
   ]
  },
  {
   "cell_type": "code",
   "execution_count": 7,
   "id": "2001cc61-eced-4b44-9115-d394e8f5b988",
   "metadata": {
    "vscode": {
     "languageId": "r"
    }
   },
   "outputs": [
    {
     "data": {
      "text/plain": [
       "[1] ‘3.1.3’"
      ]
     },
     "metadata": {},
     "output_type": "display_data"
    }
   ],
   "source": [
    "packageVersion(\"lmerTest\")\n"
   ]
  },
  {
   "cell_type": "code",
   "execution_count": 8,
   "id": "a791ea26-41da-45d1-8cf2-e04f287d351c",
   "metadata": {
    "vscode": {
     "languageId": "r"
    }
   },
   "outputs": [
    {
     "data": {
      "text/plain": [
       "[1] ‘2.0.0’"
      ]
     },
     "metadata": {},
     "output_type": "display_data"
    }
   ],
   "source": [
    "packageVersion(\"emmeans\")\n"
   ]
  },
  {
   "cell_type": "markdown",
   "id": "1998cffd-4eff-4599-8e53-2156964c5639",
   "metadata": {},
   "source": [
    "# NAT8A"
   ]
  },
  {
   "cell_type": "code",
   "execution_count": 9,
   "id": "89696c5f-08e0-434b-8161-8b2052021782",
   "metadata": {
    "vscode": {
     "languageId": "r"
    }
   },
   "outputs": [],
   "source": [
    "nat8a <- read.csv(\"../output/nat8a/distances-nat8a.csv\")\n",
    "nat8a$group <- factor(nat8a$fam, levels=c('familiar', 'unfamiliar', 'beta','alpha'))\n",
    "nat8a$comp <- factor(nat8a$comp, levels=c('GBCB','GBC','GBN'))\n",
    "nat8a$motif <- factor(nat8a$motif)"
   ]
  },
  {
   "cell_type": "code",
   "execution_count": 10,
   "id": "c18abece-3843-42ab-a752-6d9b7e4bad2a",
   "metadata": {
    "vscode": {
     "languageId": "r"
    }
   },
   "outputs": [
    {
     "data": {
      "text/plain": [
       "Linear mixed model fit by REML. t-tests use Kenward-Roger's method [\n",
       "lmerModLmerTest]\n",
       "Formula: score ~ comp + (1 | motif)\n",
       "   Data: alpha\n",
       "\n",
       "REML criterion at convergence: -30.5\n",
       "\n",
       "Scaled residuals: \n",
       "     Min       1Q   Median       3Q      Max \n",
       "-2.17209 -0.45903  0.00902  0.35465  2.43589 \n",
       "\n",
       "Random effects:\n",
       " Groups   Name        Variance Std.Dev.\n",
       " motif    (Intercept) 0.002063 0.04542 \n",
       " Residual             0.023105 0.15200 \n",
       "Number of obs: 48, groups:  motif, 8\n",
       "\n",
       "Fixed effects:\n",
       "            Estimate Std. Error       df t value Pr(>|t|)    \n",
       "(Intercept)  0.19758    0.04125 28.27153   4.789 4.83e-05 ***\n",
       "compGBC      1.09352    0.05374 38.00000  20.348  < 2e-16 ***\n",
       "compGBN      0.62771    0.05374 38.00000  11.680 3.84e-14 ***\n",
       "---\n",
       "Signif. codes:  0 ‘***’ 0.001 ‘**’ 0.01 ‘*’ 0.05 ‘.’ 0.1 ‘ ’ 1\n",
       "\n",
       "Correlation of Fixed Effects:\n",
       "        (Intr) cmpGBC\n",
       "compGBC -0.651       \n",
       "compGBN -0.651  0.500"
      ]
     },
     "metadata": {},
     "output_type": "display_data"
    }
   ],
   "source": [
    "alpha <- subset(nat8a, group=='alpha')\n",
    "amodel <- lmer(score ~ comp + (1|motif), data=alpha)\n",
    "summary(amodel, ddf=c(\"Kenward-Roger\"))"
   ]
  },
  {
   "cell_type": "code",
   "execution_count": 11,
   "id": "0bab30b4-92fd-475a-aca2-bddb63cfe046",
   "metadata": {
    "vscode": {
     "languageId": "r"
    }
   },
   "outputs": [
    {
     "name": "stderr",
     "output_type": "stream",
     "text": [
      "boundary (singular) fit: see help('isSingular')\n",
      "\n"
     ]
    },
    {
     "data": {
      "text/plain": [
       "Linear mixed model fit by REML. t-tests use Kenward-Roger's method [\n",
       "lmerModLmerTest]\n",
       "Formula: score ~ comp + (1 | motif)\n",
       "   Data: beta\n",
       "\n",
       "REML criterion at convergence: -17.8\n",
       "\n",
       "Scaled residuals: \n",
       "    Min      1Q  Median      3Q     Max \n",
       "-1.4263 -0.7668 -0.2340  0.5703  3.0721 \n",
       "\n",
       "Random effects:\n",
       " Groups   Name        Variance Std.Dev.\n",
       " motif    (Intercept) 0.00000  0.0000  \n",
       " Residual             0.03278  0.1811  \n",
       "Number of obs: 48, groups:  motif, 8\n",
       "\n",
       "Fixed effects:\n",
       "            Estimate Std. Error       df t value Pr(>|t|)    \n",
       "(Intercept)  0.36904    0.04527 36.27273   8.153 1.02e-09 ***\n",
       "compGBC      0.40291    0.06402 38.00000   6.294 2.25e-07 ***\n",
       "compGBN      0.51099    0.06402 38.00000   7.982 1.20e-09 ***\n",
       "---\n",
       "Signif. codes:  0 ‘***’ 0.001 ‘**’ 0.01 ‘*’ 0.05 ‘.’ 0.1 ‘ ’ 1\n",
       "\n",
       "Correlation of Fixed Effects:\n",
       "        (Intr) cmpGBC\n",
       "compGBC -0.707       \n",
       "compGBN -0.707  0.500\n",
       "optimizer (nloptwrap) convergence code: 0 (OK)\n",
       "boundary (singular) fit: see help('isSingular')\n"
      ]
     },
     "metadata": {},
     "output_type": "display_data"
    }
   ],
   "source": [
    "beta <- subset(nat8a, group=='beta')\n",
    "bmodel <- lmer(score ~ comp + (1|motif), data=beta)\n",
    "summary(bmodel, ddf=c(\"Kenward-Roger\"))"
   ]
  },
  {
   "cell_type": "code",
   "execution_count": 12,
   "id": "397b8d09-592f-493c-a5e8-6f32f2fe624d",
   "metadata": {
    "vscode": {
     "languageId": "r"
    }
   },
   "outputs": [
    {
     "data": {
      "text/plain": [
       "Linear mixed model fit by REML. t-tests use Kenward-Roger's method [\n",
       "lmerModLmerTest]\n",
       "Formula: score ~ comp * group + (1 | motif)\n",
       "   Data: familiarity\n",
       "\n",
       "REML criterion at convergence: -65.5\n",
       "\n",
       "Scaled residuals: \n",
       "     Min       1Q   Median       3Q      Max \n",
       "-3.00682 -0.56381 -0.05872  0.41576  2.41012 \n",
       "\n",
       "Random effects:\n",
       " Groups   Name        Variance  Std.Dev.\n",
       " motif    (Intercept) 0.0006358 0.02522 \n",
       " Residual             0.0230005 0.15166 \n",
       "Number of obs: 96, groups:  motif, 8\n",
       "\n",
       "Fixed effects:\n",
       "                         Estimate Std. Error        df t value Pr(>|t|)    \n",
       "(Intercept)              0.177701   0.038949 72.293088   4.562 2.02e-05 ***\n",
       "compGBC                  0.756260   0.053620 83.000000  14.104  < 2e-16 ***\n",
       "compGBN                  0.426511   0.053620 83.000000   7.954 8.02e-12 ***\n",
       "groupunfamiliar          0.014237   0.053620 83.000000   0.266    0.791    \n",
       "compGBC:groupunfamiliar -0.005413   0.075830 83.000000  -0.071    0.943    \n",
       "compGBN:groupunfamiliar  0.051534   0.075830 83.000000   0.680    0.499    \n",
       "---\n",
       "Signif. codes:  0 ‘***’ 0.001 ‘**’ 0.01 ‘*’ 0.05 ‘.’ 0.1 ‘ ’ 1\n",
       "\n",
       "Correlation of Fixed Effects:\n",
       "            (Intr) cmpGBC cmpGBN grpnfm cmGBC:\n",
       "compGBC     -0.688                            \n",
       "compGBN     -0.688  0.500                     \n",
       "groupunfmlr -0.688  0.500  0.500              \n",
       "cmpGBC:grpn  0.487 -0.707 -0.354 -0.707       \n",
       "cmpGBN:grpn  0.487 -0.354 -0.707 -0.707  0.500"
      ]
     },
     "metadata": {},
     "output_type": "display_data"
    }
   ],
   "source": [
    "familiarity <- subset(nat8a, group %in% c('familiar', 'unfamiliar'))\n",
    "fmod <- lmer(score ~ comp * group + (1|motif), data=familiarity)\n",
    "summary(fmod, ddf=c(\"Kenward-Roger\"))"
   ]
  },
  {
   "cell_type": "code",
   "execution_count": 13,
   "id": "4fc2bf71-4628-4066-ab06-88a18fc30bb3",
   "metadata": {
    "vscode": {
     "languageId": "r"
    }
   },
   "outputs": [
    {
     "data": {
      "text/html": [
       "<table class=\"dataframe\">\n",
       "<caption>A summary_emm: 3 × 5</caption>\n",
       "<thead>\n",
       "\t<tr><th></th><th scope=col>model term</th><th scope=col>df1</th><th scope=col>df2</th><th scope=col>F.ratio</th><th scope=col>p.value</th></tr>\n",
       "\t<tr><th></th><th scope=col>&lt;chr&gt;</th><th scope=col>&lt;dbl&gt;</th><th scope=col>&lt;dbl&gt;</th><th scope=col>&lt;dbl&gt;</th><th scope=col>&lt;dbl&gt;</th></tr>\n",
       "</thead>\n",
       "<tbody>\n",
       "\t<tr><th scope=row>1</th><td>comp      </td><td>2</td><td>83</td><td>200.150</td><td>1.765019e-32</td></tr>\n",
       "\t<tr><th scope=row>3</th><td>group     </td><td>1</td><td>83</td><td>  0.915</td><td>3.416031e-01</td></tr>\n",
       "\t<tr><th scope=row>2</th><td>comp:group</td><td>2</td><td>83</td><td>  0.344</td><td>7.101834e-01</td></tr>\n",
       "</tbody>\n",
       "</table>\n"
      ],
      "text/latex": [
       "A summary\\_emm: 3 × 5\n",
       "\\begin{tabular}{r|lllll}\n",
       "  & model term & df1 & df2 & F.ratio & p.value\\\\\n",
       "  & <chr> & <dbl> & <dbl> & <dbl> & <dbl>\\\\\n",
       "\\hline\n",
       "\t1 & comp       & 2 & 83 & 200.150 & 1.765019e-32\\\\\n",
       "\t3 & group      & 1 & 83 &   0.915 & 3.416031e-01\\\\\n",
       "\t2 & comp:group & 2 & 83 &   0.344 & 7.101834e-01\\\\\n",
       "\\end{tabular}\n"
      ],
      "text/markdown": [
       "\n",
       "A summary_emm: 3 × 5\n",
       "\n",
       "| <!--/--> | model term &lt;chr&gt; | df1 &lt;dbl&gt; | df2 &lt;dbl&gt; | F.ratio &lt;dbl&gt; | p.value &lt;dbl&gt; |\n",
       "|---|---|---|---|---|---|\n",
       "| 1 | comp       | 2 | 83 | 200.150 | 1.765019e-32 |\n",
       "| 3 | group      | 1 | 83 |   0.915 | 3.416031e-01 |\n",
       "| 2 | comp:group | 2 | 83 |   0.344 | 7.101834e-01 |\n",
       "\n"
      ],
      "text/plain": [
       "  model term df1 df2 F.ratio p.value     \n",
       "1 comp       2   83  200.150 1.765019e-32\n",
       "3 group      1   83    0.915 3.416031e-01\n",
       "2 comp:group 2   83    0.344 7.101834e-01"
      ]
     },
     "metadata": {},
     "output_type": "display_data"
    }
   ],
   "source": [
    "joint_tests(fmod)"
   ]
  },
  {
   "cell_type": "markdown",
   "id": "96fc5669-c32c-4438-8235-56b127c69349",
   "metadata": {},
   "source": [
    "# NAT8B"
   ]
  },
  {
   "cell_type": "code",
   "execution_count": 14,
   "id": "9a665460-e3b9-4c63-a074-01ba0b113f41",
   "metadata": {
    "vscode": {
     "languageId": "r"
    }
   },
   "outputs": [
    {
     "name": "stderr",
     "output_type": "stream",
     "text": [
      "boundary (singular) fit: see help('isSingular')\n",
      "\n"
     ]
    },
    {
     "data": {
      "text/plain": [
       "Linear mixed model fit by REML. t-tests use Kenward-Roger's method [\n",
       "lmerModLmerTest]\n",
       "Formula: score ~ comp + (1 | motif)\n",
       "   Data: restoration\n",
       "\n",
       "REML criterion at convergence: 23.9\n",
       "\n",
       "Scaled residuals: \n",
       "    Min      1Q  Median      3Q     Max \n",
       "-1.8673 -0.6975 -0.1554  0.6154  2.4129 \n",
       "\n",
       "Random effects:\n",
       " Groups   Name        Variance Std.Dev.\n",
       " motif    (Intercept) 0.00000  0.0000  \n",
       " Residual             0.07248  0.2692  \n",
       "Number of obs: 64, groups:  motif, 8\n",
       "\n",
       "Fixed effects:\n",
       "            Estimate Std. Error       df t value Pr(>|t|)    \n",
       "(Intercept)  0.65716    0.06731 51.17241   9.764 2.80e-13 ***\n",
       "compGBGM     0.48108    0.09519 53.00000   5.054 5.49e-06 ***\n",
       "compGBC      0.46400    0.09519 53.00000   4.875 1.03e-05 ***\n",
       "compGBN      1.10406    0.09519 53.00000  11.599 3.66e-16 ***\n",
       "---\n",
       "Signif. codes:  0 ‘***’ 0.001 ‘**’ 0.01 ‘*’ 0.05 ‘.’ 0.1 ‘ ’ 1\n",
       "\n",
       "Correlation of Fixed Effects:\n",
       "         (Intr) cmGBGM cmpGBC\n",
       "compGBGM -0.707              \n",
       "compGBC  -0.707  0.500       \n",
       "compGBN  -0.707  0.500  0.500\n",
       "optimizer (nloptwrap) convergence code: 0 (OK)\n",
       "boundary (singular) fit: see help('isSingular')\n"
      ]
     },
     "metadata": {},
     "output_type": "display_data"
    }
   ],
   "source": [
    "nat8b <- read.csv(\"../output/nat8b/distances-cohort.csv\")\n",
    "#nat8b$comp <- factor(nat8b$comp, levels=c('GBCB','GBGM','GBC','GBN'))\n",
    "restoration <- subset(nat8b, comp %in% c('GBCB','GBGM','GBC','GBN'))\n",
    "restoration$comp <- factor(restoration$comp, levels=c('GBCB','GBGM','GBC','GBN'))\n",
    "restoration$motif <- factor(restoration$motif)\n",
    "\n",
    "nat8mod <- lmer(score ~ comp + (1|motif), data=restoration)\n",
    "summary(nat8mod, ddf=c(\"Kenward-Roger\"))"
   ]
  },
  {
   "cell_type": "code",
   "execution_count": 15,
   "id": "1cd8522b-ac92-41d2-87cc-acb725035a97",
   "metadata": {
    "vscode": {
     "languageId": "r"
    }
   },
   "outputs": [
    {
     "data": {
      "text/plain": [
       "\n",
       "\tPaired t-test\n",
       "\n",
       "data:  CBC$score and CMC$score\n",
       "t = -10.534, df = 15, p-value = 2.509e-08\n",
       "alternative hypothesis: true mean difference is not equal to 0\n",
       "95 percent confidence interval:\n",
       " -0.6967505 -0.4622461\n",
       "sample estimates:\n",
       "mean difference \n",
       "     -0.5794983 \n"
      ]
     },
     "metadata": {},
     "output_type": "display_data"
    }
   ],
   "source": [
    "CBC <- subset(nat8b, comp=='CBC')\n",
    "CMC <- subset(nat8b, comp=='CMC')\n",
    "t.test(CBC$score, CMC$score, paired=TRUE)"
   ]
  },
  {
   "cell_type": "code",
   "execution_count": 16,
   "id": "bf84de51-a7a4-4aa4-96b9-0e8e60c2ad5f",
   "metadata": {
    "vscode": {
     "languageId": "r"
    }
   },
   "outputs": [
    {
     "data": {
      "text/plain": [
       "\n",
       "\tPaired t-test\n",
       "\n",
       "data:  GBC$score and GMC$score\n",
       "t = -10.509, df = 15, p-value = 2.59e-08\n",
       "alternative hypothesis: true mean difference is not equal to 0\n",
       "95 percent confidence interval:\n",
       " -0.6804455 -0.4509736\n",
       "sample estimates:\n",
       "mean difference \n",
       "     -0.5657096 \n"
      ]
     },
     "metadata": {},
     "output_type": "display_data"
    }
   ],
   "source": [
    "GBC <- subset(nat8b, comp=='GBC')\n",
    "GMC <- subset(nat8b, comp=='GMC')\n",
    "t.test(GBC$score, GMC$score, paired=TRUE)"
   ]
  },
  {
   "cell_type": "markdown",
   "id": "09194963-aaa6-43d4-98cd-1aebab38226a",
   "metadata": {},
   "source": [
    "# SYNTH8B"
   ]
  },
  {
   "cell_type": "code",
   "execution_count": 17,
   "id": "0e60df36-decd-41ac-8a9c-3ef644e64058",
   "metadata": {
    "vscode": {
     "languageId": "r"
    }
   },
   "outputs": [
    {
     "data": {
      "text/plain": [
       "Linear mixed model fit by REML. t-tests use Kenward-Roger's method [\n",
       "lmerModLmerTest]\n",
       "Formula: score ~ comp + (1 | motif)\n",
       "   Data: restoration\n",
       "\n",
       "REML criterion at convergence: 53.9\n",
       "\n",
       "Scaled residuals: \n",
       "     Min       1Q   Median       3Q      Max \n",
       "-2.14390 -0.68152 -0.03071  0.64832  2.15986 \n",
       "\n",
       "Random effects:\n",
       " Groups   Name        Variance Std.Dev.\n",
       " motif    (Intercept) 0.006159 0.07848 \n",
       " Residual             0.114666 0.33862 \n",
       "Number of obs: 64, groups:  motif, 8\n",
       "\n",
       "Fixed effects:\n",
       "            Estimate Std. Error       df t value Pr(>|t|)    \n",
       "(Intercept)  0.93819    0.08909 42.48901  10.531 2.03e-13 ***\n",
       "compGBGM     0.19472    0.11972 53.00000   1.626    0.110    \n",
       "compGBC      0.04323    0.11972 53.00000   0.361    0.719    \n",
       "compGBN      0.74377    0.11972 53.00000   6.212 8.30e-08 ***\n",
       "---\n",
       "Signif. codes:  0 ‘***’ 0.001 ‘**’ 0.01 ‘*’ 0.05 ‘.’ 0.1 ‘ ’ 1\n",
       "\n",
       "Correlation of Fixed Effects:\n",
       "         (Intr) cmGBGM cmpGBC\n",
       "compGBGM -0.672              \n",
       "compGBC  -0.672  0.500       \n",
       "compGBN  -0.672  0.500  0.500"
      ]
     },
     "metadata": {},
     "output_type": "display_data"
    }
   ],
   "source": [
    "synth8b <- read.csv(\"../output/synth8b/distances-cohort.csv\")\n",
    "#nat8b$comp <- factor(nat8b$comp, levels=c('GBCB','GBGM','GBC','GBN'))\n",
    "restoration <- subset(synth8b, comp %in% c('GBCB','GBGM','GBC','GBN'))\n",
    "restoration$comp <- factor(restoration$comp, levels=c('GBCB','GBGM','GBC','GBN'))\n",
    "restoration$motif <- factor(restoration$motif)\n",
    "\n",
    "synth8mod <- lmer(score ~ comp + (1|motif), data=restoration)\n",
    "summary(synth8mod, ddf=c(\"Kenward-Roger\"))"
   ]
  },
  {
   "cell_type": "markdown",
   "id": "cb298b3a-c3de-42ed-b285-03cc14e0a809",
   "metadata": {},
   "source": [
    "# RI Cohort 3, all units"
   ]
  },
  {
   "cell_type": "code",
   "execution_count": 18,
   "id": "c4eeea9a-e8db-42a2-a73b-2b166b3e23b5",
   "metadata": {
    "vscode": {
     "languageId": "r"
    }
   },
   "outputs": [
    {
     "data": {
      "text/plain": [
       "\n",
       "\tPaired t-test\n",
       "\n",
       "data:  nat$RI and syn$RI\n",
       "t = 2.4346, df = 15, p-value = 0.02787\n",
       "alternative hypothesis: true mean difference is not equal to 0\n",
       "95 percent confidence interval:\n",
       " 0.1025157 1.5438646\n",
       "sample estimates:\n",
       "mean difference \n",
       "      0.8231902 \n"
      ]
     },
     "metadata": {},
     "output_type": "display_data"
    }
   ],
   "source": [
    "rinaive <- read.csv(\"../output/RI_cohort.csv\")\n",
    "nat <- subset(rinaive, exp=='nat8b')\n",
    "syn <- subset(rinaive, exp=='synth8b')\n",
    "t.test(nat$RI, syn$RI, paired=TRUE)"
   ]
  },
  {
   "cell_type": "code",
   "execution_count": 19,
   "id": "fa189a38-ef43-4fba-988c-00d3e8a5a9b5",
   "metadata": {
    "vscode": {
     "languageId": "r"
    }
   },
   "outputs": [
    {
     "data": {
      "text/plain": [
       "\n",
       "\tOne Sample t-test\n",
       "\n",
       "data:  nat$RI\n",
       "t = 5.8028, df = 15, p-value = 3.483e-05\n",
       "alternative hypothesis: true mean is not equal to 0\n",
       "95 percent confidence interval:\n",
       " 0.8810339 1.9040248\n",
       "sample estimates:\n",
       "mean of x \n",
       " 1.392529 \n"
      ]
     },
     "metadata": {},
     "output_type": "display_data"
    }
   ],
   "source": [
    "t.test(nat$RI)"
   ]
  },
  {
   "cell_type": "markdown",
   "id": "feb17279-ad16-4ef2-8614-f26a404db919",
   "metadata": {},
   "source": [
    "## Subject Analysis"
   ]
  },
  {
   "cell_type": "code",
   "execution_count": 20,
   "id": "6334d313-60a4-4e18-aee8-9fa1c7f580a1",
   "metadata": {
    "vscode": {
     "languageId": "r"
    }
   },
   "outputs": [
    {
     "data": {
      "text/plain": [
       "Linear mixed model fit by REML. t-tests use Kenward-Roger's method [\n",
       "lmerModLmerTest]\n",
       "Formula: RI ~ exp + (1 | subject)\n",
       "   Data: iota\n",
       "\n",
       "REML criterion at convergence: 595.2\n",
       "\n",
       "Scaled residuals: \n",
       "    Min      1Q  Median      3Q     Max \n",
       "-3.4915 -0.7792  0.1349  0.5380  2.6681 \n",
       "\n",
       "Random effects:\n",
       " Groups   Name        Variance Std.Dev.\n",
       " subject  (Intercept) 0.2277   0.4771  \n",
       " Residual             2.3105   1.5200  \n",
       "Number of obs: 160, groups:  subject, 5\n",
       "\n",
       "Fixed effects:\n",
       "            Estimate Std. Error       df t value Pr(>|t|)  \n",
       "(Intercept)   0.8038     0.2728   6.1489   2.947   0.0250 *\n",
       "expsynth8b   -0.4782     0.2403 154.0000  -1.990   0.0484 *\n",
       "---\n",
       "Signif. codes:  0 ‘***’ 0.001 ‘**’ 0.01 ‘*’ 0.05 ‘.’ 0.1 ‘ ’ 1\n",
       "\n",
       "Correlation of Fixed Effects:\n",
       "           (Intr)\n",
       "expsynth8b -0.441"
      ]
     },
     "metadata": {},
     "output_type": "display_data"
    }
   ],
   "source": [
    "iota <- read.csv(\"../output/RI_subject.csv\")\n",
    "iota$exp <- factor(iota$exp)\n",
    "iota$bird <- factor(iota$subject)\n",
    "\n",
    "model <- lmer(RI ~ exp + (1|subject), data=iota)\n",
    "summary(model, ddf=c(\"Kenward-Roger\"))"
   ]
  },
  {
   "cell_type": "code",
   "execution_count": 21,
   "id": "8b034ef4-619a-4514-a2b3-92bb9ba84473",
   "metadata": {
    "vscode": {
     "languageId": "r"
    }
   },
   "outputs": [
    {
     "data": {
      "text/plain": [
       " exp     emmean    SE   df lower.CL upper.CL\n",
       " nat8b    0.804 0.273 6.15    0.140    1.467\n",
       " synth8b  0.326 0.273 6.15   -0.338    0.989\n",
       "\n",
       "Degrees-of-freedom method: kenward-roger \n",
       "Confidence level used: 0.95 "
      ]
     },
     "metadata": {},
     "output_type": "display_data"
    }
   ],
   "source": [
    "EMM1 <- emmeans(model, ~ exp)\n",
    "EMM1"
   ]
  },
  {
   "cell_type": "code",
   "execution_count": 22,
   "id": "bbde0af4-cfc0-4e8f-a168-36e4826788da",
   "metadata": {
    "vscode": {
     "languageId": "r"
    }
   },
   "outputs": [
    {
     "data": {
      "text/html": [
       "<table class=\"dataframe\">\n",
       "<caption>A summary_emm: 2 × 6</caption>\n",
       "<thead>\n",
       "\t<tr><th></th><th scope=col>exp</th><th scope=col>emmean</th><th scope=col>SE</th><th scope=col>df</th><th scope=col>t.ratio</th><th scope=col>p.value</th></tr>\n",
       "\t<tr><th></th><th scope=col>&lt;fct&gt;</th><th scope=col>&lt;dbl&gt;</th><th scope=col>&lt;dbl&gt;</th><th scope=col>&lt;dbl&gt;</th><th scope=col>&lt;dbl&gt;</th><th scope=col>&lt;dbl&gt;</th></tr>\n",
       "</thead>\n",
       "<tbody>\n",
       "\t<tr><th scope=row>1</th><td>nat8b  </td><td>0.8037881</td><td>0.272787</td><td>6.148938</td><td>2.946578</td><td>0.02499492</td></tr>\n",
       "\t<tr><th scope=row>2</th><td>synth8b</td><td>0.3255890</td><td>0.272787</td><td>6.148938</td><td>1.193565</td><td>0.27665561</td></tr>\n",
       "</tbody>\n",
       "</table>\n"
      ],
      "text/latex": [
       "A summary\\_emm: 2 × 6\n",
       "\\begin{tabular}{r|llllll}\n",
       "  & exp & emmean & SE & df & t.ratio & p.value\\\\\n",
       "  & <fct> & <dbl> & <dbl> & <dbl> & <dbl> & <dbl>\\\\\n",
       "\\hline\n",
       "\t1 & nat8b   & 0.8037881 & 0.272787 & 6.148938 & 2.946578 & 0.02499492\\\\\n",
       "\t2 & synth8b & 0.3255890 & 0.272787 & 6.148938 & 1.193565 & 0.27665561\\\\\n",
       "\\end{tabular}\n"
      ],
      "text/markdown": [
       "\n",
       "A summary_emm: 2 × 6\n",
       "\n",
       "| <!--/--> | exp &lt;fct&gt; | emmean &lt;dbl&gt; | SE &lt;dbl&gt; | df &lt;dbl&gt; | t.ratio &lt;dbl&gt; | p.value &lt;dbl&gt; |\n",
       "|---|---|---|---|---|---|---|\n",
       "| 1 | nat8b   | 0.8037881 | 0.272787 | 6.148938 | 2.946578 | 0.02499492 |\n",
       "| 2 | synth8b | 0.3255890 | 0.272787 | 6.148938 | 1.193565 | 0.27665561 |\n",
       "\n"
      ],
      "text/plain": [
       "  exp     emmean    SE       df       t.ratio  p.value   \n",
       "1 nat8b   0.8037881 0.272787 6.148938 2.946578 0.02499492\n",
       "2 synth8b 0.3255890 0.272787 6.148938 1.193565 0.27665561"
      ]
     },
     "metadata": {},
     "output_type": "display_data"
    }
   ],
   "source": [
    "RI_subject_means <- EMM1 |> test()\n",
    "RI_subject_means"
   ]
  },
  {
   "cell_type": "code",
   "execution_count": 23,
   "id": "211eac3f-df57-4541-83db-2d8939b1dd64",
   "metadata": {
    "vscode": {
     "languageId": "r"
    }
   },
   "outputs": [],
   "source": [
    "write.csv(RI_subject_means, \"../output/RI_subject_means.csv\")"
   ]
  },
  {
   "cell_type": "markdown",
   "id": "8327d2f0-f94a-480c-bafa-41664bbe1fdf",
   "metadata": {},
   "source": [
    "## Region analysis"
   ]
  },
  {
   "cell_type": "code",
   "execution_count": 24,
   "id": "c8b6b304-4c6f-4764-b387-cef9a21fcc89",
   "metadata": {
    "vscode": {
     "languageId": "r"
    }
   },
   "outputs": [
    {
     "data": {
      "text/plain": [
       "Linear mixed model fit by REML. t-tests use Kenward-Roger's method [\n",
       "lmerModLmerTest]\n",
       "Formula: RI ~ exp * region + (1 | subject) + (1 | recording)\n",
       "   Data: rho\n",
       "\n",
       "REML criterion at convergence: 1541.7\n",
       "\n",
       "Scaled residuals: \n",
       "    Min      1Q  Median      3Q     Max \n",
       "-8.1115 -0.4996  0.0812  0.4166  5.2070 \n",
       "\n",
       "Random effects:\n",
       " Groups    Name        Variance Std.Dev.\n",
       " recording (Intercept) 0.4975   0.7053  \n",
       " subject   (Intercept) 0.7176   0.8471  \n",
       " Residual              9.2094   3.0347  \n",
       "Number of obs: 304, groups:  recording, 19; subject, 3\n",
       "\n",
       "Fixed effects:\n",
       "                     Estimate Std. Error      df t value Pr(>|t|)  \n",
       "(Intercept)            0.1755     0.8222  6.5136   0.213   0.8375  \n",
       "expsynth8b             0.2881     0.8458 11.0061   0.341   0.7398  \n",
       "regionL2               1.1892     0.8133 11.2458   1.462   0.1711  \n",
       "regionNCM              1.5617     0.9559 11.9033   1.634   0.1284  \n",
       "expsynth8b:regionL2   -2.0863     1.1189 11.0061  -1.865   0.0891 .\n",
       "expsynth8b:regionNCM  -1.4350     1.2752 11.0474  -1.125   0.2843  \n",
       "---\n",
       "Signif. codes:  0 ‘***’ 0.001 ‘**’ 0.01 ‘*’ 0.05 ‘.’ 0.1 ‘ ’ 1\n",
       "\n",
       "Correlation of Fixed Effects:\n",
       "            (Intr) expsy8 regnL2 rgnNCM ex8:L2\n",
       "expsynth8b  -0.528                            \n",
       "regionL2    -0.600  0.526                     \n",
       "regionNCM   -0.577  0.464  0.536              \n",
       "expsynt8:L2  0.399 -0.756 -0.696 -0.351       \n",
       "expsyn8:NCM  0.339 -0.665 -0.339 -0.612  0.502"
      ]
     },
     "metadata": {},
     "output_type": "display_data"
    }
   ],
   "source": [
    "rho <- read.csv(\"../output/RI_region.csv\")\n",
    "rho$exp <- factor(rho$exp)\n",
    "rho$region <- factor(rho$region)\n",
    "rho$subject <- factor(rho$subject)\n",
    "rho$recording <- factor(rho$recording)\n",
    "\n",
    "model <- lmer(RI ~ exp*region + (1|subject) + (1|recording), data=rho)\n",
    "summary(model, ddf=c(\"Kenward-Roger\"))"
   ]
  },
  {
   "cell_type": "code",
   "execution_count": 25,
   "id": "fae2ccdb-ed1f-45b2-bcbe-65fc69bfd793",
   "metadata": {
    "vscode": {
     "languageId": "r"
    }
   },
   "outputs": [
    {
     "data": {
      "text/html": [
       "<table class=\"dataframe\">\n",
       "<caption>A summary_emm: 3 × 5</caption>\n",
       "<thead>\n",
       "\t<tr><th></th><th scope=col>model term</th><th scope=col>df1</th><th scope=col>df2</th><th scope=col>F.ratio</th><th scope=col>p.value</th></tr>\n",
       "\t<tr><th></th><th scope=col>&lt;chr&gt;</th><th scope=col>&lt;dbl&gt;</th><th scope=col>&lt;dbl&gt;</th><th scope=col>&lt;dbl&gt;</th><th scope=col>&lt;dbl&gt;</th></tr>\n",
       "</thead>\n",
       "<tbody>\n",
       "\t<tr><th scope=row>1</th><td>exp       </td><td>1</td><td>11.04</td><td>3.265</td><td>0.09809374</td></tr>\n",
       "\t<tr><th scope=row>3</th><td>region    </td><td>2</td><td>11.46</td><td>0.656</td><td>0.53739536</td></tr>\n",
       "\t<tr><th scope=row>2</th><td>exp:region</td><td>2</td><td>11.01</td><td>1.763</td><td>0.21672976</td></tr>\n",
       "</tbody>\n",
       "</table>\n"
      ],
      "text/latex": [
       "A summary\\_emm: 3 × 5\n",
       "\\begin{tabular}{r|lllll}\n",
       "  & model term & df1 & df2 & F.ratio & p.value\\\\\n",
       "  & <chr> & <dbl> & <dbl> & <dbl> & <dbl>\\\\\n",
       "\\hline\n",
       "\t1 & exp        & 1 & 11.04 & 3.265 & 0.09809374\\\\\n",
       "\t3 & region     & 2 & 11.46 & 0.656 & 0.53739536\\\\\n",
       "\t2 & exp:region & 2 & 11.01 & 1.763 & 0.21672976\\\\\n",
       "\\end{tabular}\n"
      ],
      "text/markdown": [
       "\n",
       "A summary_emm: 3 × 5\n",
       "\n",
       "| <!--/--> | model term &lt;chr&gt; | df1 &lt;dbl&gt; | df2 &lt;dbl&gt; | F.ratio &lt;dbl&gt; | p.value &lt;dbl&gt; |\n",
       "|---|---|---|---|---|---|\n",
       "| 1 | exp        | 1 | 11.04 | 3.265 | 0.09809374 |\n",
       "| 3 | region     | 2 | 11.46 | 0.656 | 0.53739536 |\n",
       "| 2 | exp:region | 2 | 11.01 | 1.763 | 0.21672976 |\n",
       "\n"
      ],
      "text/plain": [
       "  model term df1 df2   F.ratio p.value   \n",
       "1 exp        1   11.04 3.265   0.09809374\n",
       "3 region     2   11.46 0.656   0.53739536\n",
       "2 exp:region 2   11.01 1.763   0.21672976"
      ]
     },
     "metadata": {},
     "output_type": "display_data"
    }
   ],
   "source": [
    "joint_tests(model)"
   ]
  },
  {
   "cell_type": "code",
   "execution_count": 26,
   "id": "49c29329-1507-48df-894e-d4bbe9c9b34c",
   "metadata": {
    "vscode": {
     "languageId": "r"
    }
   },
   "outputs": [
    {
     "name": "stderr",
     "output_type": "stream",
     "text": [
      "NOTE: Results may be misleading due to involvement in interactions\n",
      "\n"
     ]
    },
    {
     "data": {
      "text/html": [
       "<table class=\"dataframe\">\n",
       "<caption>A summary_emm: 2 × 6</caption>\n",
       "<thead>\n",
       "\t<tr><th></th><th scope=col>exp</th><th scope=col>emmean</th><th scope=col>SE</th><th scope=col>df</th><th scope=col>t.ratio</th><th scope=col>p.value</th></tr>\n",
       "\t<tr><th></th><th scope=col>&lt;fct&gt;</th><th scope=col>&lt;dbl&gt;</th><th scope=col>&lt;dbl&gt;</th><th scope=col>&lt;dbl&gt;</th><th scope=col>&lt;dbl&gt;</th><th scope=col>&lt;dbl&gt;</th></tr>\n",
       "</thead>\n",
       "<tbody>\n",
       "\t<tr><th scope=row>1</th><td>nat8b  </td><td>1.0924619</td><td>0.5988858</td><td>2.515571</td><td>1.8241574</td><td>0.1830618</td></tr>\n",
       "\t<tr><th scope=row>2</th><td>synth8b</td><td>0.2067373</td><td>0.6101679</td><td>2.766490</td><td>0.3388204</td><td>0.7588120</td></tr>\n",
       "</tbody>\n",
       "</table>\n"
      ],
      "text/latex": [
       "A summary\\_emm: 2 × 6\n",
       "\\begin{tabular}{r|llllll}\n",
       "  & exp & emmean & SE & df & t.ratio & p.value\\\\\n",
       "  & <fct> & <dbl> & <dbl> & <dbl> & <dbl> & <dbl>\\\\\n",
       "\\hline\n",
       "\t1 & nat8b   & 1.0924619 & 0.5988858 & 2.515571 & 1.8241574 & 0.1830618\\\\\n",
       "\t2 & synth8b & 0.2067373 & 0.6101679 & 2.766490 & 0.3388204 & 0.7588120\\\\\n",
       "\\end{tabular}\n"
      ],
      "text/markdown": [
       "\n",
       "A summary_emm: 2 × 6\n",
       "\n",
       "| <!--/--> | exp &lt;fct&gt; | emmean &lt;dbl&gt; | SE &lt;dbl&gt; | df &lt;dbl&gt; | t.ratio &lt;dbl&gt; | p.value &lt;dbl&gt; |\n",
       "|---|---|---|---|---|---|---|\n",
       "| 1 | nat8b   | 1.0924619 | 0.5988858 | 2.515571 | 1.8241574 | 0.1830618 |\n",
       "| 2 | synth8b | 0.2067373 | 0.6101679 | 2.766490 | 0.3388204 | 0.7588120 |\n",
       "\n"
      ],
      "text/plain": [
       "  exp     emmean    SE        df       t.ratio   p.value  \n",
       "1 nat8b   1.0924619 0.5988858 2.515571 1.8241574 0.1830618\n",
       "2 synth8b 0.2067373 0.6101679 2.766490 0.3388204 0.7588120"
      ]
     },
     "metadata": {},
     "output_type": "display_data"
    }
   ],
   "source": [
    "expmeans <- emmeans(model, ~ exp)\n",
    "expmeans |> test()"
   ]
  },
  {
   "cell_type": "code",
   "execution_count": 27,
   "id": "b646c9b8-4507-40f9-9472-ecdc9f4f5ff9",
   "metadata": {
    "vscode": {
     "languageId": "r"
    }
   },
   "outputs": [
    {
     "data": {
      "text/html": [
       "<table class=\"dataframe\">\n",
       "<caption>A summary_emm: 6 × 7</caption>\n",
       "<thead>\n",
       "\t<tr><th></th><th scope=col>exp</th><th scope=col>region</th><th scope=col>emmean</th><th scope=col>SE</th><th scope=col>df</th><th scope=col>t.ratio</th><th scope=col>p.value</th></tr>\n",
       "\t<tr><th></th><th scope=col>&lt;fct&gt;</th><th scope=col>&lt;fct&gt;</th><th scope=col>&lt;dbl&gt;</th><th scope=col>&lt;dbl&gt;</th><th scope=col>&lt;dbl&gt;</th><th scope=col>&lt;dbl&gt;</th><th scope=col>&lt;dbl&gt;</th></tr>\n",
       "</thead>\n",
       "<tbody>\n",
       "\t<tr><th scope=row>1</th><td>nat8b  </td><td>CM </td><td> 0.1755135</td><td>0.8222003</td><td>6.513598</td><td> 0.2134680</td><td>0.83748844</td></tr>\n",
       "\t<tr><th scope=row>2</th><td>synth8b</td><td>CM </td><td> 0.4635674</td><td>0.8222003</td><td>6.513598</td><td> 0.5638132</td><td>0.59175212</td></tr>\n",
       "\t<tr><th scope=row>3</th><td>nat8b  </td><td>L2 </td><td> 1.3646755</td><td>0.7210151</td><td>4.956994</td><td> 1.8927141</td><td>0.11745476</td></tr>\n",
       "\t<tr><th scope=row>4</th><td>synth8b</td><td>L2 </td><td>-0.4336188</td><td>0.7210151</td><td>4.956994</td><td>-0.6014004</td><td>0.57401524</td></tr>\n",
       "\t<tr><th scope=row>5</th><td>nat8b  </td><td>NCM</td><td> 1.7371969</td><td>0.8061953</td><td>6.550224</td><td> 2.1548089</td><td>0.07079335</td></tr>\n",
       "\t<tr><th scope=row>6</th><td>synth8b</td><td>NCM</td><td> 0.5902634</td><td>0.9084642</td><td>8.844804</td><td> 0.6497377</td><td>0.53237091</td></tr>\n",
       "</tbody>\n",
       "</table>\n"
      ],
      "text/latex": [
       "A summary\\_emm: 6 × 7\n",
       "\\begin{tabular}{r|lllllll}\n",
       "  & exp & region & emmean & SE & df & t.ratio & p.value\\\\\n",
       "  & <fct> & <fct> & <dbl> & <dbl> & <dbl> & <dbl> & <dbl>\\\\\n",
       "\\hline\n",
       "\t1 & nat8b   & CM  &  0.1755135 & 0.8222003 & 6.513598 &  0.2134680 & 0.83748844\\\\\n",
       "\t2 & synth8b & CM  &  0.4635674 & 0.8222003 & 6.513598 &  0.5638132 & 0.59175212\\\\\n",
       "\t3 & nat8b   & L2  &  1.3646755 & 0.7210151 & 4.956994 &  1.8927141 & 0.11745476\\\\\n",
       "\t4 & synth8b & L2  & -0.4336188 & 0.7210151 & 4.956994 & -0.6014004 & 0.57401524\\\\\n",
       "\t5 & nat8b   & NCM &  1.7371969 & 0.8061953 & 6.550224 &  2.1548089 & 0.07079335\\\\\n",
       "\t6 & synth8b & NCM &  0.5902634 & 0.9084642 & 8.844804 &  0.6497377 & 0.53237091\\\\\n",
       "\\end{tabular}\n"
      ],
      "text/markdown": [
       "\n",
       "A summary_emm: 6 × 7\n",
       "\n",
       "| <!--/--> | exp &lt;fct&gt; | region &lt;fct&gt; | emmean &lt;dbl&gt; | SE &lt;dbl&gt; | df &lt;dbl&gt; | t.ratio &lt;dbl&gt; | p.value &lt;dbl&gt; |\n",
       "|---|---|---|---|---|---|---|---|\n",
       "| 1 | nat8b   | CM  |  0.1755135 | 0.8222003 | 6.513598 |  0.2134680 | 0.83748844 |\n",
       "| 2 | synth8b | CM  |  0.4635674 | 0.8222003 | 6.513598 |  0.5638132 | 0.59175212 |\n",
       "| 3 | nat8b   | L2  |  1.3646755 | 0.7210151 | 4.956994 |  1.8927141 | 0.11745476 |\n",
       "| 4 | synth8b | L2  | -0.4336188 | 0.7210151 | 4.956994 | -0.6014004 | 0.57401524 |\n",
       "| 5 | nat8b   | NCM |  1.7371969 | 0.8061953 | 6.550224 |  2.1548089 | 0.07079335 |\n",
       "| 6 | synth8b | NCM |  0.5902634 | 0.9084642 | 8.844804 |  0.6497377 | 0.53237091 |\n",
       "\n"
      ],
      "text/plain": [
       "  exp     region emmean     SE        df       t.ratio    p.value   \n",
       "1 nat8b   CM      0.1755135 0.8222003 6.513598  0.2134680 0.83748844\n",
       "2 synth8b CM      0.4635674 0.8222003 6.513598  0.5638132 0.59175212\n",
       "3 nat8b   L2      1.3646755 0.7210151 4.956994  1.8927141 0.11745476\n",
       "4 synth8b L2     -0.4336188 0.7210151 4.956994 -0.6014004 0.57401524\n",
       "5 nat8b   NCM     1.7371969 0.8061953 6.550224  2.1548089 0.07079335\n",
       "6 synth8b NCM     0.5902634 0.9084642 8.844804  0.6497377 0.53237091"
      ]
     },
     "metadata": {},
     "output_type": "display_data"
    }
   ],
   "source": [
    "expmeans <- emmeans(model, ~ exp | region)\n",
    "RI_region_means <- expmeans |> test()\n",
    "write.csv(RI_region_means, \"../output/RI_region_means.csv\")\n",
    "RI_region_means"
   ]
  },
  {
   "cell_type": "code",
   "execution_count": null,
   "id": "c33d2a5c-e359-4a25-889d-ed1cf102b06c",
   "metadata": {
    "vscode": {
     "languageId": "r"
    }
   },
   "outputs": [],
   "source": []
  }
 ],
 "metadata": {
  "kernelspec": {
   "display_name": "R 4.4.1",
   "language": "R",
   "name": "R-4.4.1"
  },
  "language_info": {
   "codemirror_mode": "r",
   "file_extension": ".r",
   "mimetype": "text/x-r-source",
   "name": "R",
   "pygments_lexer": "r",
   "version": "4.4.1"
  }
 },
 "nbformat": 4,
 "nbformat_minor": 5
}
