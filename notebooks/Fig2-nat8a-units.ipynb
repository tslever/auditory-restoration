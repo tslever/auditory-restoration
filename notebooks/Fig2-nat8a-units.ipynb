{
 "cells": [
  {
   "cell_type": "code",
   "execution_count": 1,
   "id": "0b75c1b4-4222-4095-9db5-a079df9fd89a",
   "metadata": {
    "scrolled": true
   },
   "outputs": [
    {
     "name": "stdout",
     "output_type": "stream",
     "text": [
      "\n",
      "## You are using the Python ARM Radar Toolkit (Py-ART), an open source\n",
      "## library for working with weather radar data. Py-ART is partly\n",
      "## supported by the U.S. Department of Energy as part of the Atmospheric\n",
      "## Radiation Measurement (ARM) Climate Research Facility, an Office of\n",
      "## Science user facility.\n",
      "##\n",
      "## If you use this software to prepare a publication, please cite:\n",
      "##\n",
      "##     JJ Helmus and SM Collis, JORS 2016, doi: 10.5334/jors.119\n",
      "\n"
     ]
    }
   ],
   "source": [
    "import sys\n",
    "import yaml\n",
    "import pyart\n",
    "import json\n",
    "import joblib\n",
    "import numpy as np\n",
    "import pandas as pd\n",
    "import scipy.stats as ss\n",
    "from pathlib import Path\n",
    "import matplotlib.pyplot as plt\n",
    "import seaborn as sns\n",
    "\n",
    "sys.path.append('../scripts')\n",
    "from analyse import *\n",
    "import core"
   ]
  },
  {
   "cell_type": "markdown",
   "id": "a0dd1b52-718e-4219-a656-7e2b7aec1de2",
   "metadata": {},
   "source": [
    "# NAT8A ALPHA"
   ]
  },
  {
   "cell_type": "code",
   "execution_count": 2,
   "id": "6ec5ba70-5e7a-4c40-9252-d3893fbef19f",
   "metadata": {},
   "outputs": [],
   "source": [
    "exp='nat8a'\n",
    "dataset = 'alpha'\n",
    "stim_info = pd.read_csv(f\"../inputs/stimuli/{exp}-info.csv\")\n",
    "spectrograms = pd.read_csv(f\"../build/{exp}/spectrograms.csv\", index_col=[0,1])\n",
    "motifs = stim_info.motif.unique()\n",
    "gap_times = stim_info[stim_info.type=='gap'].groupby(['motif','gap']).first()[['gap_start', 'gap_stop']]"
   ]
  },
  {
   "cell_type": "code",
   "execution_count": 3,
   "id": "b9b0b3ee-3089-429a-a049-b1025c6dcd0b",
   "metadata": {},
   "outputs": [
    {
     "data": {
      "text/plain": [
       "array([281., 263., 435., 349., 269., 274., 293., 324.])"
      ]
     },
     "execution_count": 3,
     "metadata": {},
     "output_type": "execute_result"
    }
   ],
   "source": [
    "# Ends of each CI from motif end:\n",
    "cstims = [f\"{m}_continuous\" for m in motifs]\n",
    "ends = spectrograms.groupby('stimulus')\\\n",
    ".apply(lambda df: df.index.get_level_values(1).max())\\\n",
    ".loc[cstims].sort_index()\n",
    "stops = gap_times.groupby('motif').apply(lambda x: x.gap_stop.max()).sort_index()\n",
    "ends.values-stops.values"
   ]
  },
  {
   "cell_type": "markdown",
   "id": "770427de-a1fb-4d10-a180-11e0261edf0e",
   "metadata": {},
   "source": [
    "## Average CI response rate"
   ]
  },
  {
   "cell_type": "code",
   "execution_count": 4,
   "id": "f6fe3490-01bb-4487-b530-3c9846d050b7",
   "metadata": {},
   "outputs": [
    {
     "data": {
      "text/html": [
       "<div>\n",
       "<style scoped>\n",
       "    .dataframe tbody tr th:only-of-type {\n",
       "        vertical-align: middle;\n",
       "    }\n",
       "\n",
       "    .dataframe tbody tr th {\n",
       "        vertical-align: top;\n",
       "    }\n",
       "\n",
       "    .dataframe thead th {\n",
       "        text-align: right;\n",
       "    }\n",
       "</style>\n",
       "<table border=\"1\" class=\"dataframe\">\n",
       "  <thead>\n",
       "    <tr style=\"text-align: right;\">\n",
       "      <th></th>\n",
       "      <th>unit</th>\n",
       "      <th>motif</th>\n",
       "      <th>gap</th>\n",
       "      <th>condition</th>\n",
       "      <th>mean</th>\n",
       "    </tr>\n",
       "  </thead>\n",
       "  <tbody>\n",
       "    <tr>\n",
       "      <th>0</th>\n",
       "      <td>O129_p2r3_ch4_c33</td>\n",
       "      <td>B189</td>\n",
       "      <td>1.0</td>\n",
       "      <td>C</td>\n",
       "      <td>0.019792</td>\n",
       "    </tr>\n",
       "    <tr>\n",
       "      <th>1</th>\n",
       "      <td>O129_p2r3_ch4_c33</td>\n",
       "      <td>B189</td>\n",
       "      <td>1.0</td>\n",
       "      <td>GB</td>\n",
       "      <td>0.000000</td>\n",
       "    </tr>\n",
       "    <tr>\n",
       "      <th>2</th>\n",
       "      <td>O129_p2r3_ch4_c33</td>\n",
       "      <td>B189</td>\n",
       "      <td>1.0</td>\n",
       "      <td>N</td>\n",
       "      <td>0.002083</td>\n",
       "    </tr>\n",
       "    <tr>\n",
       "      <th>3</th>\n",
       "      <td>O129_p2r3_ch4_c33</td>\n",
       "      <td>B189</td>\n",
       "      <td>1.0</td>\n",
       "      <td>G</td>\n",
       "      <td>0.000000</td>\n",
       "    </tr>\n",
       "    <tr>\n",
       "      <th>4</th>\n",
       "      <td>O129_p2r3_ch4_c33</td>\n",
       "      <td>B189</td>\n",
       "      <td>1.0</td>\n",
       "      <td>CB</td>\n",
       "      <td>0.001042</td>\n",
       "    </tr>\n",
       "  </tbody>\n",
       "</table>\n",
       "</div>"
      ],
      "text/plain": [
       "                unit motif  gap condition      mean\n",
       "0  O129_p2r3_ch4_c33  B189  1.0         C  0.019792\n",
       "1  O129_p2r3_ch4_c33  B189  1.0        GB  0.000000\n",
       "2  O129_p2r3_ch4_c33  B189  1.0         N  0.002083\n",
       "3  O129_p2r3_ch4_c33  B189  1.0         G  0.000000\n",
       "4  O129_p2r3_ch4_c33  B189  1.0        CB  0.001042"
      ]
     },
     "execution_count": 4,
     "metadata": {},
     "output_type": "execute_result"
    }
   ],
   "source": [
    "units = []\n",
    "for room in ['178B', '180B']:\n",
    "    with open(f'../inputs/units/{exp}-{dataset}-{room}.txt') as ufile:\n",
    "        units.extend(ufile.read().split('\\n'))\n",
    "\n",
    "data = []\n",
    "for u in units:\n",
    "    pprox_file = Path(f\"../datasets/{exp}-{dataset}-responses/{u}.pprox\")\n",
    "    pprox_data = json.loads(pprox_file.read_text())\n",
    "    unit_data = pd.json_normalize(pprox_data[\"pprox\"]).rename(\n",
    "        columns = {'stimulus': 'motif'}\n",
    "    )\n",
    "    unit_data['stimulus'] = unit_data[\"motif\"] + \"_\" + unit_data[\"condition\"]\n",
    "    unit_data.set_index('stimulus', inplace=True)\n",
    "    for (m, g), gapdata in gap_times.iterrows():\n",
    "        ga, gb = gapdata\n",
    "        for c in ['C','GB','N', 'G', 'CB']:\n",
    "            stim = aname(m, c, g)\n",
    "            mean = unit_data.loc[stim].event.apply(\n",
    "                lambda events: len([i for i in events if ga<=i<=gb+50])\n",
    "            ).mean() / (gb-ga)\n",
    "            data.append({'unit': u, 'motif':m, 'gap': g, 'condition':c, 'mean': mean})\n",
    "data = pd.DataFrame(data)\n",
    "data.head()"
   ]
  },
  {
   "cell_type": "markdown",
   "id": "c6432f30-a17d-4718-a316-85453be0d217",
   "metadata": {},
   "source": [
    "## Firing rate of pairwise conditions"
   ]
  },
  {
   "cell_type": "code",
   "execution_count": 5,
   "id": "1187cbe9-9748-4d85-b23e-e68da386c349",
   "metadata": {},
   "outputs": [
    {
     "data": {
      "image/png": "[encoded data removed]",
      "text/plain": [
       "<Figure size 500x500 with 1 Axes>"
      ]
     },
     "metadata": {},
     "output_type": "display_data"
    },
    {
     "data": {
      "image/png": "[encoded data removed]",
      "text/plain": [
       "<Figure size 500x500 with 1 Axes>"
      ]
     },
     "metadata": {},
     "output_type": "display_data"
    },
    {
     "data": {
      "image/png": "[encoded data removed]",
      "text/plain": [
       "<Figure size 500x500 with 1 Axes>"
      ]
     },
     "metadata": {},
     "output_type": "display_data"
    },
    {
     "data": {
      "image/png": "[encoded data removed]",
      "text/plain": [
       "<Figure size 500x500 with 1 Axes>"
      ]
     },
     "metadata": {},
     "output_type": "display_data"
    }
   ],
   "source": [
    "sns.set_style('whitegrid')\n",
    "plt.rcParams['xtick.bottom'] = True\n",
    "plt.rcParams['xtick.major.size'] = 7\n",
    "plt.rcParams['xtick.major.width'] = 2\n",
    "plt.rcParams['xtick.minor.size'] = 5\n",
    "plt.rcParams['xtick.minor.width'] = 1\n",
    "plt.rcParams['ytick.left'] = True\n",
    "\n",
    "plt.rcParams['ytick.major.size'] = 7\n",
    "plt.rcParams['ytick.major.width'] = 2\n",
    "plt.rcParams['ytick.minor.size'] = 5\n",
    "plt.rcParams['ytick.minor.width'] = 1\n",
    "\n",
    "'''\n",
    "unit_by_condition = data.set_index(\n",
    "    ['condition', 'unit', 'motif', 'gap']\n",
    ").groupby(\n",
    "    ['condition', 'unit']\n",
    ").mean().unstack(0).droplevel(\n",
    "    0, axis=1\n",
    ")\n",
    "'''\n",
    "unit_by_condition = (\n",
    "    data.groupby(['condition', 'unit'])['mean']\n",
    "        .mean()\n",
    "        .unstack('condition')\n",
    ")\n",
    "pseudocount = 1e-6\n",
    "'''\n",
    "ubc_logged = unit_by_condition.apply(\n",
    "    np.log\n",
    ").replace(\n",
    "    [np.inf, -np.inf], np.nan\n",
    ").dropna(axis=0, how='any')\n",
    "'''\n",
    "ubc_logged = np.log(unit_by_condition + pseudocount)\n",
    "ubc_logged = ubc_logged.replace([np.inf, -np.inf], np.nan).dropna(how = \"any\")\n",
    "conditions_to_plot = [c for c in ['C', 'N', 'G', 'CB'] if 'GB' in ubc_logged.columns and c in ubc_logged.columns]\n",
    "sns.set_style('whitegrid')\n",
    "plt.rcParams['xtick.bottom'] = True\n",
    "plt.rcParams['ytick.left'] = True\n",
    "plt.rcParams['xtick.major.size'] = 7\n",
    "plt.rcParams['xtick.major.width'] = 2\n",
    "plt.rcParams['xtick.minor.size'] = 5\n",
    "plt.rcParams['xtick.minor.width'] = 1\n",
    "plt.rcParams['ytick.major.size'] = 7\n",
    "plt.rcParams['ytick.major.width'] = 2\n",
    "plt.rcParams['ytick.minor.size'] = 5\n",
    "plt.rcParams['ytick.minor.width'] = 1\n",
    "#for c in ['C', 'N', 'G', 'CB']:\n",
    "for c in conditions_to_plot:\n",
    "    x = ubc_logged['GB']\n",
    "    y = ubc_logged[c]\n",
    "    mask = x.notna() & y.notna()\n",
    "    x, y = x[mask], y[mask]\n",
    "    if len(x) == 0:\n",
    "        continue\n",
    "    low, high = np.nanpercentile(np.concatenate([x.values, y.values]), [1, 99])\n",
    "    max_abs = float(np.nanmax(np.abs([low, high])))\n",
    "    llim, ulim = -max_abs, max_abs\n",
    "    #ax = plt.figure(figsize=(5,5)).add_subplot()\n",
    "    fig, ax = plt.subplots(figsize = (5, 5))\n",
    "    ax.plot([llim,ulim], [llim,ulim], color='black', ls='--', lw=2)\n",
    "    #ax.plot( ubc_logged['GB'], ubc_logged[c], '.', color='black')\n",
    "    ax.plot(x, y, '.', color = 'black')\n",
    "    ax.set_xlim(llim,ulim)\n",
    "    ax.set_ylim(llim,ulim)\n",
    "    ax.set_aspect('equal', adjustable = 'box')\n",
    "    ticks = [-3, 0, 3]\n",
    "    ticks = [t for t in ticks if llim <= t <= ulim]\n",
    "    ax.set_xticks(ticks)\n",
    "    ax.set_yticks(ticks)\n",
    "    plt.setp(ax.spines.values(), lw=3, color='black')\n",
    "    ax.set_title(f\"{c} by GB (log scale)\")\n",
    "    plt.tight_layout()\n",
    "    plt.show()"
   ]
  },
  {
   "cell_type": "code",
   "execution_count": null,
   "id": "5092b5fa-942b-40ad-a505-52b6f2607e27",
   "metadata": {},
   "outputs": [],
   "source": [
    "for c in ['C', 'G', 'N', 'CB']:\n",
    "    corr = ss.pearsonr(unit_by_condition[c].values, unit_by_condition['GB'].values)\n",
    "    r = corr.statistic\n",
    "    se = np.sqrt( (1 - r**2) / (len(unit_by_condition[c].values)-2) )\n",
    "    print(f\"{c} - GB, corr. coef.: {r:.3f}, stderr: {se:.3f}\")"
   ]
  },
  {
   "cell_type": "markdown",
   "id": "097945cd-5da8-4e64-bea1-421a4cfe38d4",
   "metadata": {},
   "source": [
    "## Tone-Noise Similarity Index"
   ]
  },
  {
   "cell_type": "code",
   "execution_count": null,
   "id": "a592e807-b3e1-4145-bfcd-2a2de9d79198",
   "metadata": {},
   "outputs": [],
   "source": [
    "A = np.abs(unit_by_condition['N'] - unit_by_condition['GB'])\n",
    "B = np.abs(unit_by_condition['C'] - unit_by_condition['GB'])\n",
    "unit_by_condition['TNSI'] = (A-B)/(A+B)\n",
    "\n",
    "A = np.abs(unit_by_condition['G'] - unit_by_condition['GB'])\n",
    "B = np.abs(unit_by_condition['C'] - unit_by_condition['GB'])\n",
    "unit_by_condition['TGSI'] = (A-B)/(A+B)\n",
    "\n",
    "sns.set_style('whitegrid')\n",
    "plt.rcParams['xtick.major.size'] = 7\n",
    "plt.rcParams['xtick.major.width'] = 2\n",
    "plt.rcParams['xtick.minor.size'] = 5\n",
    "plt.rcParams['xtick.minor.width'] = 1\n",
    "plt.rcParams['xtick.bottom'] = True\n",
    "\n",
    "plt.rcParams['ytick.major.size'] = 7\n",
    "plt.rcParams['ytick.major.width'] = 2\n",
    "plt.rcParams['ytick.minor.size'] = 5\n",
    "plt.rcParams['ytick.minor.width'] = 1\n",
    "plt.rcParams['ytick.left'] = True\n",
    "\n",
    "ax = plt.figure(figsize=(5,5)).add_subplot()\n",
    "unit_by_condition['TNSI'].hist(ax=ax, grid=False, bins=20, color='black')\n",
    "ax.set_ylim(0,50)\n",
    "ax.set_xlim(-1, 1)\n",
    "ax.set_yticks([0,20,40], [])\n",
    "# ax.yaxis.set_minor_locator(AutoMinorLocator())\n",
    "ax.set_xticks([-1,0,1], [])\n",
    "# ax.xaxis.set_minor_locator(AutoMinorLocator())\n",
    "\n",
    "plt.setp(ax.spines.values(), lw=3, color='black')\n",
    "ax.axvline(0, ls='--', lw=2, color='grey')"
   ]
  },
  {
   "cell_type": "markdown",
   "id": "2871048f-5203-4d6f-9cb7-8788a11ae924",
   "metadata": {},
   "source": [
    "## Raster Plots"
   ]
  },
  {
   "cell_type": "code",
   "execution_count": null,
   "id": "680a2de0-48e9-45af-9067-503747705083",
   "metadata": {},
   "outputs": [],
   "source": [
    "sns.set_style('white')\n",
    "plt.rcParams['xtick.major.size'] = 7\n",
    "plt.rcParams['xtick.major.width'] = 2\n",
    "plt.rcParams['xtick.minor.size'] = 5\n",
    "plt.rcParams['xtick.minor.width'] = 1\n",
    "plt.rcParams['xtick.bottom'] = True\n",
    "\n",
    "plt.rcParams['ytick.major.size'] = 7\n",
    "plt.rcParams['ytick.major.width'] = 2\n",
    "plt.rcParams['ytick.minor.size'] = 5\n",
    "plt.rcParams['ytick.minor.width'] = 1\n",
    "plt.rcParams['ytick.left'] = True\n",
    "\n",
    "m = motifs[6]\n",
    "g = 2\n",
    "ga, gb = gap_times.loc[m, g]\n",
    "us = ['G158_p3r2_ch6_c41','P74_p1r1_ch4_c21', 'P47_p1r3_ch21_c23']\n",
    "\n",
    "for ic, c in enumerate(['C', 'GB', 'CB', 'G', 'N']):\n",
    "    fig, ax = plt.subplots(4, 1, figsize=(6,7))\n",
    "\n",
    "    stim = aname(m,c,g)\n",
    "    spec = spectrograms.loc[stim]\n",
    "    tmax = spec.index.max()\n",
    "    ax[0].imshow(\n",
    "        spec.T.iloc[::-1], cmap=cmap, aspect='auto', vmin=0, vmax=3\n",
    "    )\n",
    "    if c!='GB':\n",
    "        ax[0].set_xticks([])\n",
    "        ax[0].set_yticks([])\n",
    "    else:\n",
    "        ax[0].set_yticks([0,49], [])\n",
    "        ax[0].set_xticks([])\n",
    "    for iu, u in enumerate(us):\n",
    "        pprox_file = Path(f\"../datasets/{exp}-{dataset}-responses/{u}.pprox\")\n",
    "        pprox_data = json.loads(pprox_file.read_text())\n",
    "        unit_data = pd.json_normalize(pprox_data[\"pprox\"]).rename(\n",
    "            columns = {'stimulus': 'motif'}\n",
    "        )\n",
    "        unit_data['stimulus'] = unit_data[\"motif\"] + \"_\" + unit_data[\"condition\"]\n",
    "        unit_data.set_index('stimulus', inplace=True)\n",
    "        events = unit_data.loc[stim].event.values\n",
    "        \n",
    "        plt.setp(ax[iu+1].spines.values(), lw=3, color='black')\n",
    "        ax[iu+1].fill_between([ga, gb], y1=-1, y2=10, color='black', alpha=0.1)\n",
    "        ax[iu+1].eventplot(events, color='black', lw=2)\n",
    "\n",
    "        ax[iu+1].set_xlim(0, tmax)\n",
    "        ax[iu+1].set_ylim(-1, 10)\n",
    "        if (c=='GB') & (iu==2):\n",
    "            ax[iu+1].set_xticks([0, 400, 800], [])\n",
    "            ax[iu+1].set_yticks([0, 10], [])\n",
    "        elif (iu==2):\n",
    "            ax[iu+1].set_xticks([0, 400, 800], [])\n",
    "            ax[iu+1].set_yticks([])\n",
    "        else:\n",
    "            ax[iu+1].set_xticks([])\n",
    "            ax[iu+1].set_yticks([])\n",
    "            \n",
    "        plt.tight_layout()"
   ]
  },
  {
   "cell_type": "code",
   "execution_count": null,
   "id": "1cd67ba6-5f06-4074-b968-a532450a3856",
   "metadata": {},
   "outputs": [],
   "source": [
    "sns.set_style('white')\n",
    "plt.rcParams['xtick.major.size'] = 7\n",
    "plt.rcParams['xtick.major.width'] = 2\n",
    "plt.rcParams['xtick.minor.size'] = 5\n",
    "plt.rcParams['xtick.minor.width'] = 1\n",
    "plt.rcParams['xtick.bottom'] = True\n",
    "\n",
    "plt.rcParams['ytick.major.size'] = 7\n",
    "plt.rcParams['ytick.major.width'] = 2\n",
    "plt.rcParams['ytick.minor.size'] = 5\n",
    "plt.rcParams['ytick.minor.width'] = 1\n",
    "plt.rcParams['ytick.left'] = True\n",
    "\n",
    "m = motifs[3]\n",
    "g = 1\n",
    "ga, gb = gap_times.loc[m, g]\n",
    "us = ['G158_p3r2_ch6_c41','P74_p1r1_ch4_c21', 'P47_p1r3_ch21_c23']\n",
    "\n",
    "for ic, c in enumerate(['C', 'GB', 'CB', 'G', 'N']):\n",
    "    fig, ax = plt.subplots(4, 1, figsize=(6,7))\n",
    "\n",
    "    stim = aname(m,c,g)\n",
    "    spec = spectrograms.loc[stim]\n",
    "    tmax = spec.index.max()\n",
    "    ax[0].imshow(\n",
    "        spec.T.iloc[::-1], cmap=cmap, aspect='auto', vmin=0, vmax=3\n",
    "    )\n",
    "    if c!='GB':\n",
    "        ax[0].set_xticks([])\n",
    "        ax[0].set_yticks([])\n",
    "    else:\n",
    "        ax[0].set_yticks([0,49], [])\n",
    "        ax[0].set_xticks([])\n",
    "    for iu, u in enumerate(us):\n",
    "        pprox_file = Path(f\"../datasets/{exp}-{dataset}-responses/{u}.pprox\")\n",
    "        pprox_data = json.loads(pprox_file.read_text())\n",
    "        unit_data = pd.json_normalize(pprox_data[\"pprox\"]).rename(\n",
    "            columns = {'stimulus': 'motif'}\n",
    "        )\n",
    "        unit_data['stimulus'] = unit_data[\"motif\"] + \"_\" + unit_data[\"condition\"]\n",
    "        unit_data.set_index('stimulus', inplace=True)\n",
    "        events = unit_data.loc[stim].event.values\n",
    "        \n",
    "        plt.setp(ax[iu+1].spines.values(), lw=3, color='black')\n",
    "        ax[iu+1].fill_between([ga, gb], y1=-1, y2=10, color='black', alpha=0.1)\n",
    "        ax[iu+1].eventplot(events, color='black', lw=2)\n",
    "\n",
    "        ax[iu+1].set_xlim(0, tmax)\n",
    "        ax[iu+1].set_ylim(-1, 10)\n",
    "        if (c=='GB') & (iu==2):\n",
    "            ax[iu+1].set_xticks([0, 400, 800], [])\n",
    "            ax[iu+1].set_yticks([0, 10], [])\n",
    "        elif (iu==2):\n",
    "            ax[iu+1].set_xticks([0, 400, 800], [])\n",
    "            ax[iu+1].set_yticks([])\n",
    "        else:\n",
    "            ax[iu+1].set_xticks([])\n",
    "            ax[iu+1].set_yticks([])\n",
    "            \n",
    "        plt.tight_layout()"
   ]
  }
 ],
 "metadata": {
  "kernelspec": {
   "display_name": "venv (3.11.6)",
   "language": "python",
   "name": "python3"
  },
  "language_info": {
   "codemirror_mode": {
    "name": "ipython",
    "version": 3
   },
   "file_extension": ".py",
   "mimetype": "text/x-python",
   "name": "python",
   "nbconvert_exporter": "python",
   "pygments_lexer": "ipython3",
   "version": "3.11.6"
  }
 },
 "nbformat": 4,
 "nbformat_minor": 5
}
