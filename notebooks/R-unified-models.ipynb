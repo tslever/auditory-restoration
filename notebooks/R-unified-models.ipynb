{
 "cells": [
  {
   "cell_type": "code",
   "execution_count": 1,
   "id": "dc50b7f7-7fee-4f52-9a3e-59ae53a26493",
   "metadata": {
    "vscode": {
     "languageId": "r"
    }
   },
   "outputs": [
    {
     "name": "stderr",
     "output_type": "stream",
     "text": [
      "Loading required package: Matrix\n",
      "\n",
      "Welcome to emmeans.\n",
      "Caution: You lose important information if you filter this package's results.\n",
      "See '? untidy'\n",
      "\n",
      "\n",
      "Attaching package: ‘lmerTest’\n",
      "\n",
      "\n",
      "The following object is masked from ‘package:lme4’:\n",
      "\n",
      "    lmer\n",
      "\n",
      "\n",
      "The following object is masked from ‘package:stats’:\n",
      "\n",
      "    step\n",
      "\n",
      "\n"
     ]
    }
   ],
   "source": [
    "library(\"lme4\")\n",
    "library(\"emmeans\")\n",
    "library(\"lmerTest\")"
   ]
  },
  {
   "cell_type": "markdown",
   "id": "42da5260-d5c0-4f80-9bdb-625c89df849a",
   "metadata": {},
   "source": [
    "## NAT8A ALPHA"
   ]
  },
  {
   "cell_type": "code",
   "execution_count": 2,
   "id": "75fdfa04-0718-411a-850b-648030315c11",
   "metadata": {
    "vscode": {
     "languageId": "r"
    }
   },
   "outputs": [
    {
     "name": "stderr",
     "output_type": "stream",
     "text": [
      "Warning message in file(file, \"rt\"):\n",
      "“cannot open file '../output/pairwise-nat8a-alpha-unified.csv': No such file or directory”\n"
     ]
    },
    {
     "ename": "ERROR",
     "evalue": "Error in file(file, \"rt\"): cannot open the connection\n",
     "output_type": "error",
     "traceback": [
      "Error in file(file, \"rt\"): cannot open the connection\nTraceback:\n",
      "1. read.table(file = file, header = header, sep = sep, quote = quote, \n .     dec = dec, fill = fill, comment.char = comment.char, ...)",
      "2. file(file, \"rt\")",
      "3. .handleSimpleError(function (cnd) \n . {\n .     watcher$capture_plot_and_output()\n .     cnd <- sanitize_call(cnd)\n .     watcher$push(cnd)\n .     switch(on_error, continue = invokeRestart(\"eval_continue\"), \n .         stop = invokeRestart(\"eval_stop\"), error = invokeRestart(\"eval_error\", \n .             cnd))\n . }, \"cannot open the connection\", base::quote(file(file, \"rt\")))"
     ]
    }
   ],
   "source": [
    "crossmtf <- read.csv(\"../output/pairwise-nat8a-alpha-unified.csv\")\n",
    "crossmtf$GB_to <- factor(crossmtf$GB_to, levels=c('CB','C','N'))\n",
    "crossmodel <- lmer(dist ~ same_CI*GB_to + (1|from_m), data=crossmtf)\n",
    "summary(crossmodel, ddf=c(\"Kenward-Roger\"))"
   ]
  },
  {
   "cell_type": "code",
   "execution_count": null,
   "id": "169b5c7d-f23b-4514-bf41-ffda04436028",
   "metadata": {
    "vscode": {
     "languageId": "r"
    }
   },
   "outputs": [],
   "source": [
    "joint_tests(crossmodel)"
   ]
  },
  {
   "cell_type": "code",
   "execution_count": null,
   "id": "652f8626-a65b-4984-b00c-4407c69b4825",
   "metadata": {
    "vscode": {
     "languageId": "r"
    }
   },
   "outputs": [],
   "source": [
    "emmip(crossmodel, GB_to ~ same_CI)"
   ]
  },
  {
   "cell_type": "code",
   "execution_count": null,
   "id": "5653529c-86f6-4385-99f3-0d96b811cb14",
   "metadata": {
    "vscode": {
     "languageId": "r"
    }
   },
   "outputs": [],
   "source": [
    "EMM1 <- emmeans(crossmodel, ~ same_CI|GB_to)\n",
    "crossmodelsum <- EMM1 |> test()\n",
    "crossmodelsum"
   ]
  },
  {
   "cell_type": "markdown",
   "id": "79c2fb87-5e0d-4379-97a1-7f5861f7da43",
   "metadata": {},
   "source": [
    "## NAT8B"
   ]
  },
  {
   "cell_type": "code",
   "execution_count": null,
   "id": "858425ca-7fae-4387-9512-e1f93149e88b",
   "metadata": {
    "vscode": {
     "languageId": "r"
    }
   },
   "outputs": [],
   "source": [
    "crossmtf <- read.csv(\"../output/pairwise-nat8b-unified.csv\")\n",
    "crossmtf$GB_to <- factor(crossmtf$GB_to, levels=c('CB', 'C'))\n",
    "crossmodel <- lmer(dist ~ same_CI*GB_to + (1|from_m), data=crossmtf)\n",
    "summary(crossmodel, ddf=c(\"Kenward-Roger\"))"
   ]
  },
  {
   "cell_type": "code",
   "execution_count": null,
   "id": "e437ec10-5366-4bb0-846c-3a088945b68b",
   "metadata": {
    "vscode": {
     "languageId": "r"
    }
   },
   "outputs": [],
   "source": [
    "joint_tests(crossmodel)"
   ]
  },
  {
   "cell_type": "code",
   "execution_count": null,
   "id": "5c03af81-c2d2-43f1-b39a-0ac1bf8d95e1",
   "metadata": {
    "vscode": {
     "languageId": "r"
    }
   },
   "outputs": [],
   "source": [
    "emmip(crossmodel, GB_to ~ same_CI)"
   ]
  },
  {
   "cell_type": "code",
   "execution_count": null,
   "id": "cc326bf7-9a09-4289-8345-24edf62b9445",
   "metadata": {
    "vscode": {
     "languageId": "r"
    }
   },
   "outputs": [],
   "source": [
    "EMM1 <- emmeans(crossmodel, ~ same_CI|GB_to)\n",
    "crossmodelsum <- EMM1 |> test()\n",
    "crossmodelsum"
   ]
  },
  {
   "cell_type": "code",
   "execution_count": null,
   "id": "243e8ffc-7a98-401f-823e-0da3fb04fc78",
   "metadata": {
    "vscode": {
     "languageId": "r"
    }
   },
   "outputs": [],
   "source": [
    "# write.csv(crossmodelsum, \"../output/pairwise-nat8b-unified-Rmods.csv\")"
   ]
  },
  {
   "cell_type": "markdown",
   "id": "b74eaf8b-b382-44b5-8665-63ac4ed71e9d",
   "metadata": {},
   "source": [
    "## SYNTH8B"
   ]
  },
  {
   "cell_type": "code",
   "execution_count": null,
   "id": "46e284d4-a651-4a81-a520-da19e0131933",
   "metadata": {
    "vscode": {
     "languageId": "r"
    }
   },
   "outputs": [],
   "source": [
    "crossmtf <- read.csv(\"../output/pairwise-synth8b-unified.csv\")\n",
    "crossmtf$GB_to <- factor(crossmtf$GB_to, levels=c('CB', 'C'))\n",
    "crossmodel <- lmer(dist ~ same_CI*GB_to + (1|from_m), data=crossmtf)\n",
    "summary(crossmodel, ddf=c(\"Kenward-Roger\"))"
   ]
  },
  {
   "cell_type": "code",
   "execution_count": null,
   "id": "7f1ca413-5581-483a-8923-db38a0fe4af9",
   "metadata": {
    "vscode": {
     "languageId": "r"
    }
   },
   "outputs": [],
   "source": [
    "joint_tests(crossmodel)"
   ]
  },
  {
   "cell_type": "code",
   "execution_count": null,
   "id": "8ff2505f-06c7-426e-97d9-980c273eb9df",
   "metadata": {
    "vscode": {
     "languageId": "r"
    }
   },
   "outputs": [],
   "source": [
    "emmip(crossmodel, GB_to ~ same_CI)"
   ]
  },
  {
   "cell_type": "code",
   "execution_count": null,
   "id": "6ceb6e8a-c71e-4235-b840-bc547d8ca368",
   "metadata": {
    "vscode": {
     "languageId": "r"
    }
   },
   "outputs": [],
   "source": []
  }
 ],
 "metadata": {
  "kernelspec": {
   "display_name": "R 4.4.1",
   "language": "R",
   "name": "R-4.4.1"
  },
  "language_info": {
   "codemirror_mode": "r",
   "file_extension": ".r",
   "mimetype": "text/x-r-source",
   "name": "R",
   "pygments_lexer": "r",
   "version": "4.4.1"
  }
 },
 "nbformat": 4,
 "nbformat_minor": 5
}
